{
 "cells": [
  {
   "cell_type": "code",
   "execution_count": null,
   "metadata": {
    "collapsed": true
   },
   "outputs": [],
   "source": [
    "import numpy\n",
    "import urllib\n",
    "import scipy.optimize\n",
    "import random\n",
    "from math import exp\n",
    "from math import log\n",
    "from random import shuffle\n",
    "import pandas as pd\n",
    "import matplotlib.pyplot as plt\n",
    "from sklearn.decomposition import PCA"
   ]
  },
  {
   "cell_type": "code",
   "execution_count": 3,
   "metadata": {
    "collapsed": true
   },
   "outputs": [],
   "source": [
    "random.seed(0)"
   ]
  },
  {
   "cell_type": "code",
   "execution_count": 4,
   "metadata": {
    "collapsed": true
   },
   "outputs": [],
   "source": [
    "def parseData(fname):\n",
    "  for l in urllib.urlopen(fname):\n",
    "    yield eval(l)"
   ]
  },
  {
   "cell_type": "code",
   "execution_count": 12,
   "metadata": {
    "collapsed": false
   },
   "outputs": [],
   "source": [
    "\n",
    "dataFile = open(\"C:/Users/BHEL/Desktop/Recommendation Systems/Assignment 1/winequality-white.csv\")\n",
    "header = dataFile.readline()\n",
    "fields = [\"constant\"] + header.strip().replace('\"','').split(';')\n",
    "featureNames = fields[:-1]\n",
    "labelName = fields[-1]\n",
    "lines = [[float(x) for x in l.split(';')] for l in dataFile]\n",
    "X = [l[:-1] for l in lines]\n",
    "y = [l[-1] > 5 for l in lines]\n",
    "\n",
    "def inner(x,y):\n",
    "  return sum([x[i]*y[i] for i in range(len(x))])\n",
    "\n",
    "def sigmoid(x):\n",
    "  return 1.0 / (1 + exp(-x))"
   ]
  },
  {
   "cell_type": "code",
   "execution_count": 36,
   "metadata": {
    "collapsed": false
   },
   "outputs": [],
   "source": [
    "\n",
    "X_train = X[:int(len(X)/3)]\n",
    "y_train = y[:int(len(y)/3)]\n",
    "X_validate = X[int(len(X)/3):int(2*len(X)/3)]\n",
    "y_validate = y[int(len(y)/3):int(2*len(y)/3)]\n",
    "X_test = X[int(2*len(X)/3):]\n",
    "y_test = y[int(2*len(X)/3):]"
   ]
  },
  {
   "cell_type": "code",
   "execution_count": 82,
   "metadata": {
    "collapsed": false
   },
   "outputs": [
    {
     "name": "stdout",
     "output_type": "stream",
     "text": [
      "[[  3.23636346e-04  -1.42201752e-04  -3.17030713e-04  -5.36390435e-02\n",
      "   -9.30284526e-05  -2.54030965e-01  -9.65655009e-01  -3.19990241e-05\n",
      "    2.95831396e-04  -3.84043646e-04   1.00526693e-02]\n",
      " [ -7.57985623e-03  -1.66366340e-03   1.04742899e-03   5.21677266e-02\n",
      "    4.49425600e-05   9.65020304e-01  -2.56793964e-01   7.90089050e-06\n",
      "    5.24900596e-04  -1.09699394e-03  -2.89827657e-03]\n",
      " [  1.82124420e-02   2.54680710e-03   3.31838657e-03   9.93221259e-01\n",
      "   -1.51888372e-04  -6.42297821e-02  -3.91682592e-02   4.30929482e-04\n",
      "   -6.93199060e-03  -2.85216045e-03  -8.62920933e-02]\n",
      " [ -1.56811999e-01  -3.28220652e-03  -1.66866136e-02  -8.28549640e-02\n",
      "    6.91822288e-03  -1.13029682e-03  -5.39110108e-03   9.49080503e-04\n",
      "   -2.68027305e-03  -1.30498102e-03  -9.83955205e-01]\n",
      " [ -9.81360642e-01   1.45890108e-02  -5.92643662e-02   3.17546064e-02\n",
      "   -5.07483182e-04  -8.43759364e-03   1.77578042e-03  -6.03725221e-04\n",
      "    9.05011239e-02   9.35630845e-03   1.54417839e-01]\n",
      " [ -7.76578401e-02   2.37665885e-01  -2.23406619e-02  -5.04113878e-03\n",
      "    1.43564098e-02   2.14210997e-04   2.22913844e-04  -3.36617054e-03\n",
      "   -8.77254205e-01  -4.08570175e-01   1.54145486e-02]\n",
      " [ -7.36289612e-02  -2.61563804e-01   9.43067566e-01  -2.14514264e-03\n",
      "    1.19104298e-02  -1.68808905e-03   1.42294158e-04  -1.17203197e-04\n",
      "   -1.45895558e-01   1.23868963e-01  -2.88797236e-03]\n",
      " [  1.37617196e-02  -2.11129619e-01   1.16514121e-01  -5.30670319e-04\n",
      "   -1.05181628e-02  -1.36446528e-03   8.21179429e-04  -3.09221855e-04\n",
      "    3.58358431e-01  -9.01728510e-01  -3.27758247e-03]\n",
      " [ -1.74575775e-02  -9.10890084e-01  -3.04081497e-01   2.89763923e-03\n",
      "   -2.34615054e-02  -1.17406025e-03   3.85957239e-04  -1.23176271e-03\n",
      "   -2.68927937e-01   6.70756658e-02   1.12101920e-02]\n",
      " [  2.31513441e-03  -2.38717789e-02  -1.67445603e-02   8.92206499e-04\n",
      "    9.99462734e-01  -9.81109101e-05  -3.32812875e-05   4.14235255e-03\n",
      "    1.18483756e-02  -3.51543098e-03   6.92344110e-03]\n",
      " [  7.48312160e-04   3.08204153e-04   2.55232500e-04   3.49846801e-04\n",
      "    4.12943179e-03  -6.96565372e-06   4.16951216e-06  -9.99984215e-01\n",
      "    3.17948604e-03   1.53436134e-03  -1.10029138e-03]]\n"
     ]
    }
   ],
   "source": [
    "pca = PCA(n_components=11)\n",
    "pca.fit(X_train)\n",
    "print(pca.components_)"
   ]
  }
 ],
 "metadata": {
  "anaconda-cloud": {},
  "kernelspec": {
   "display_name": "Python [default]",
   "language": "python",
   "name": "python3"
  },
  "language_info": {
   "codemirror_mode": {
    "name": "ipython",
    "version": 3
   },
   "file_extension": ".py",
   "mimetype": "text/x-python",
   "name": "python",
   "nbconvert_exporter": "python",
   "pygments_lexer": "ipython3",
   "version": "3.5.2"
  }
 },
 "nbformat": 4,
 "nbformat_minor": 1
}
