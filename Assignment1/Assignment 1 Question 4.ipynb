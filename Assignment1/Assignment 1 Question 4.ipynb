{
 "cells": [
  {
   "cell_type": "code",
   "execution_count": 2,
   "metadata": {
    "collapsed": false
   },
   "outputs": [],
   "source": [
    "import numpy\n",
    "import scipy\n",
    "import csv\n",
    "import pandas as pd"
   ]
  },
  {
   "cell_type": "code",
   "execution_count": 3,
   "metadata": {
    "collapsed": false
   },
   "outputs": [],
   "source": [
    "# open the file in universal line ending mode \n",
    "df = pd.read_csv('C:/Users/BHEL/Desktop/Recommendation Systems/Assignment 1/winequality-white.csv',delimiter=\";\")\n",
    "df_train = df.iloc[0: int(len(df)/2)]\n",
    "df_test = df.iloc[int(len(df)/2) + 1 :len(df)]"
   ]
  },
  {
   "cell_type": "code",
   "execution_count": 6,
   "metadata": {
    "collapsed": false
   },
   "outputs": [
    {
     "data": {
      "text/plain": [
       "array([  1.59265497e+02,  -1.79843308e+00,   1.53362739e-01,\n",
       "         7.40365514e-02,  -8.95644126e-01,   6.66762254e-03,\n",
       "        -2.78710665e-04,  -1.59274221e+02,   7.11764816e-01,\n",
       "         7.06744801e-01,   2.12169554e-01])"
      ]
     },
     "execution_count": 6,
     "metadata": {},
     "output_type": "execute_result"
    }
   ],
   "source": [
    "# Removing Fixed Acidity\n",
    "y = df_train[\"quality\"].values\n",
    "X = numpy.vstack([numpy.ones(len(df_train)),df_train[\"volatile acidity\"],df_train[\"citric acid\"] \\\n",
    "                  ,df_train[\"residual sugar\"],df_train[\"chlorides\"],df_train[\"free sulfur dioxide\"], \\\n",
    "                 df_train[\"total sulfur dioxide\"],df_train[\"density\"],df_train[\"pH\"], df_train[\"sulphates\"], \\\n",
    "                 df_train[\"alcohol\"]]).T\n",
    "theta,residuals,rank,s = numpy.linalg.lstsq(X, y)\n",
    "theta"
   ]
  },
  {
   "cell_type": "code",
   "execution_count": 7,
   "metadata": {
    "collapsed": false
   },
   "outputs": [],
   "source": [
    "y_test = df_test[\"quality\"].values\n",
    "X_test = numpy.vstack([numpy.ones(len(df_test)),df_test[\"volatile acidity\"],df_test[\"citric acid\"] \\\n",
    "                  ,df_test[\"residual sugar\"],df_test[\"chlorides\"],df_test[\"free sulfur dioxide\"], \\\n",
    "                 df_test[\"total sulfur dioxide\"],df_test[\"density\"],df_test[\"pH\"], df_test[\"sulphates\"], \\\n",
    "                 df_test[\"alcohol\"]]).T\n",
    "theta_test,residuals_test,rank_test,s_test = numpy.linalg.lstsq(X_test, y_test)\n"
   ]
  },
  {
   "cell_type": "code",
   "execution_count": 8,
   "metadata": {
    "collapsed": false
   },
   "outputs": [
    {
     "data": {
      "text/plain": [
       "array([ 0.49593076])"
      ]
     },
     "execution_count": 8,
     "metadata": {},
     "output_type": "execute_result"
    }
   ],
   "source": [
    "residuals/len(y)\n",
    "residuals_test/len(y_test)"
   ]
  },
  {
   "cell_type": "code",
   "execution_count": 9,
   "metadata": {
    "collapsed": false
   },
   "outputs": [
    {
     "data": {
      "text/plain": [
       "array([  2.76319617e+02,   1.70596631e-01,   3.37705416e-01,\n",
       "         1.11733261e-01,  -1.03169500e+00,   8.78146518e-03,\n",
       "        -7.94469068e-04,  -2.79834990e+02,   1.46305736e+00,\n",
       "         9.14939034e-01,   4.97740129e-02])"
      ]
     },
     "execution_count": 9,
     "metadata": {},
     "output_type": "execute_result"
    }
   ],
   "source": [
    "# Removing Volatile Acidity\n",
    "y = df_train[\"quality\"].values\n",
    "X = numpy.vstack([numpy.ones(len(df_train)),df_train[\"fixed acidity\"].values,df_train[\"citric acid\"] \\\n",
    "                  ,df_train[\"residual sugar\"],df_train[\"chlorides\"],df_train[\"free sulfur dioxide\"], \\\n",
    "                 df_train[\"total sulfur dioxide\"],df_train[\"density\"],df_train[\"pH\"], df_train[\"sulphates\"], \\\n",
    "                 df_train[\"alcohol\"]]).T\n",
    "theta,residuals,rank,s = numpy.linalg.lstsq(X, y)\n",
    "theta"
   ]
  },
  {
   "cell_type": "code",
   "execution_count": 10,
   "metadata": {
    "collapsed": true
   },
   "outputs": [],
   "source": [
    "y_test = df_test[\"quality\"].values\n",
    "X_test = numpy.vstack([numpy.ones(len(df_test)),df_test[\"fixed acidity\"].values,df_test[\"citric acid\"] \\\n",
    "                  ,df_test[\"residual sugar\"],df_test[\"chlorides\"],df_test[\"free sulfur dioxide\"], \\\n",
    "                 df_test[\"total sulfur dioxide\"],df_test[\"density\"],df_test[\"pH\"], df_test[\"sulphates\"], \\\n",
    "                 df_test[\"alcohol\"]]).T\n",
    "theta_test,residuals_test,rank_test,s_test = numpy.linalg.lstsq(X_test, y_test)"
   ]
  },
  {
   "cell_type": "code",
   "execution_count": 11,
   "metadata": {
    "collapsed": false
   },
   "outputs": [
    {
     "data": {
      "text/plain": [
       "array([ 0.52603379])"
      ]
     },
     "execution_count": 11,
     "metadata": {},
     "output_type": "execute_result"
    }
   ],
   "source": [
    "residuals/len(y)\n",
    "residuals_test/len(y_test)"
   ]
  },
  {
   "cell_type": "code",
   "execution_count": 12,
   "metadata": {
    "collapsed": false
   },
   "outputs": [
    {
     "data": {
      "text/plain": [
       "array([  2.54710681e+02,   1.37865465e-01,  -1.75200556e+00,\n",
       "         1.08761156e-01,  -2.16042405e-01,   6.39876960e-03,\n",
       "         2.76634223e-05,  -2.56894507e+02,   1.18003096e+00,\n",
       "         8.35323848e-01,   1.01084607e-01])"
      ]
     },
     "execution_count": 12,
     "metadata": {},
     "output_type": "execute_result"
    }
   ],
   "source": [
    "# Removing Citric Acid\n",
    "y = df_train[\"quality\"].values\n",
    "X = numpy.vstack([numpy.ones(len(df_train)),df_train[\"fixed acidity\"].values,df_train[\"volatile acidity\"] \\\n",
    "                  ,df_train[\"residual sugar\"],df_train[\"chlorides\"],df_train[\"free sulfur dioxide\"], \\\n",
    "                 df_train[\"total sulfur dioxide\"],df_train[\"density\"],df_train[\"pH\"], df_train[\"sulphates\"], \\\n",
    "                 df_train[\"alcohol\"]]).T\n",
    "theta,residuals,rank,s = numpy.linalg.lstsq(X, y)\n",
    "theta"
   ]
  },
  {
   "cell_type": "code",
   "execution_count": 13,
   "metadata": {
    "collapsed": true
   },
   "outputs": [],
   "source": [
    "y_test = df_test[\"quality\"].values\n",
    "X_test = numpy.vstack([numpy.ones(len(df_test)),df_test[\"fixed acidity\"].values,df_test[\"volatile acidity\"] \\\n",
    "                  ,df_test[\"residual sugar\"],df_test[\"chlorides\"],df_test[\"free sulfur dioxide\"], \\\n",
    "                 df_test[\"total sulfur dioxide\"],df_test[\"density\"],df_test[\"pH\"], df_test[\"sulphates\"], \\\n",
    "                 df_test[\"alcohol\"]]).T\n",
    "theta_test,residuals_test,rank_test,s_test = numpy.linalg.lstsq(X_test, y_test)"
   ]
  },
  {
   "cell_type": "code",
   "execution_count": 14,
   "metadata": {
    "collapsed": false
   },
   "outputs": [
    {
     "data": {
      "text/plain": [
       "array([ 0.49575561])"
      ]
     },
     "execution_count": 14,
     "metadata": {},
     "output_type": "execute_result"
    }
   ],
   "source": [
    "residuals/len(y)\n",
    "residuals_test/len(y_test)"
   ]
  },
  {
   "cell_type": "code",
   "execution_count": 15,
   "metadata": {
    "collapsed": false
   },
   "outputs": [
    {
     "data": {
      "text/plain": [
       "array([ -1.47920104e+01,  -7.46073461e-02,  -1.76142965e+00,\n",
       "         6.81139124e-02,  -1.82547037e+00,   8.93883453e-03,\n",
       "        -8.05570058e-04,   1.66496148e+01,   2.40618592e-01,\n",
       "         4.00610149e-01,   3.87434345e-01])"
      ]
     },
     "execution_count": 15,
     "metadata": {},
     "output_type": "execute_result"
    }
   ],
   "source": [
    "# Removing Residual Sugar\n",
    "y = df_train[\"quality\"].values\n",
    "X = numpy.vstack([numpy.ones(len(df_train)),df_train[\"fixed acidity\"].values,df_train[\"volatile acidity\"],df_train[\"citric acid\"] \\\n",
    "                  ,df_train[\"chlorides\"],df_train[\"free sulfur dioxide\"], \\\n",
    "                 df_train[\"total sulfur dioxide\"],df_train[\"density\"],df_train[\"pH\"], df_train[\"sulphates\"], \\\n",
    "                 df_train[\"alcohol\"]]).T\n",
    "theta,residuals,rank,s = numpy.linalg.lstsq(X, y)\n",
    "theta"
   ]
  },
  {
   "cell_type": "code",
   "execution_count": 16,
   "metadata": {
    "collapsed": true
   },
   "outputs": [],
   "source": [
    "y_test = df_test[\"quality\"].values\n",
    "X_test = numpy.vstack([numpy.ones(len(df_test)),df_test[\"fixed acidity\"].values,df_test[\"volatile acidity\"],df_test[\"citric acid\"] \\\n",
    "                  ,df_test[\"chlorides\"],df_test[\"free sulfur dioxide\"], \\\n",
    "                 df_test[\"total sulfur dioxide\"],df_test[\"density\"],df_test[\"pH\"], df_test[\"sulphates\"], \\\n",
    "                 df_test[\"alcohol\"]]).T\n",
    "theta_test,residuals_test,rank_test,s_test = numpy.linalg.lstsq(X_test, y_test)"
   ]
  },
  {
   "cell_type": "code",
   "execution_count": 17,
   "metadata": {
    "collapsed": false
   },
   "outputs": [
    {
     "data": {
      "text/plain": [
       "array([ 0.50989045])"
      ]
     },
     "execution_count": 17,
     "metadata": {},
     "output_type": "execute_result"
    }
   ],
   "source": [
    "residuals/len(y)\n",
    "residuals_test/len(y_test)"
   ]
  },
  {
   "cell_type": "code",
   "execution_count": 18,
   "metadata": {
    "collapsed": false
   },
   "outputs": [
    {
     "data": {
      "text/plain": [
       "array([  2.58709684e+02,   1.37904183e-01,  -1.73584539e+00,\n",
       "         9.75957321e-02,   1.10074038e-01,   6.31755375e-03,\n",
       "         3.99792536e-05,  -2.61016310e+02,   1.20593153e+00,\n",
       "         8.35397592e-01,   9.72781925e-02])"
      ]
     },
     "execution_count": 18,
     "metadata": {},
     "output_type": "execute_result"
    }
   ],
   "source": [
    "# Removing Chlorides\n",
    "y = df_train[\"quality\"].values\n",
    "X = numpy.vstack([numpy.ones(len(df_train)),df_train[\"fixed acidity\"].values,df_train[\"volatile acidity\"],df_train[\"citric acid\"] \\\n",
    "                  ,df_train[\"residual sugar\"],df_train[\"free sulfur dioxide\"], \\\n",
    "                 df_train[\"total sulfur dioxide\"],df_train[\"density\"],df_train[\"pH\"], df_train[\"sulphates\"], \\\n",
    "                 df_train[\"alcohol\"]]).T\n",
    "theta,residuals,rank,s = numpy.linalg.lstsq(X, y)\n",
    "theta"
   ]
  },
  {
   "cell_type": "code",
   "execution_count": 19,
   "metadata": {
    "collapsed": true
   },
   "outputs": [],
   "source": [
    "y_test = df_test[\"quality\"].values\n",
    "X_test = numpy.vstack([numpy.ones(len(df_test)),df_test[\"fixed acidity\"].values,df_test[\"volatile acidity\"],df_test[\"citric acid\"] \\\n",
    "                  ,df_test[\"residual sugar\"],df_test[\"free sulfur dioxide\"], \\\n",
    "                 df_test[\"total sulfur dioxide\"],df_test[\"density\"],df_test[\"pH\"], df_test[\"sulphates\"], \\\n",
    "                 df_test[\"alcohol\"]]).T\n",
    "theta_test,residuals_test,rank_test,s_test = numpy.linalg.lstsq(X_test, y_test)"
   ]
  },
  {
   "cell_type": "code",
   "execution_count": 20,
   "metadata": {
    "collapsed": false
   },
   "outputs": [
    {
     "data": {
      "text/plain": [
       "array([ 0.49563808])"
      ]
     },
     "execution_count": 20,
     "metadata": {},
     "output_type": "execute_result"
    }
   ],
   "source": [
    "residuals/len(y)\n",
    "residuals_test/len(y_test)"
   ]
  },
  {
   "cell_type": "code",
   "execution_count": 21,
   "metadata": {
    "collapsed": false
   },
   "outputs": [
    {
     "data": {
      "text/plain": [
       "array([  2.82300292e+02,   1.44692601e-01,  -1.86565663e+00,\n",
       "         1.35540475e-01,   1.21404594e-01,  -9.31572520e-02,\n",
       "         1.55712233e-03,  -2.84834933e+02,   1.29264990e+00,\n",
       "         8.11809727e-01,   7.21620256e-02])"
      ]
     },
     "execution_count": 21,
     "metadata": {},
     "output_type": "execute_result"
    }
   ],
   "source": [
    "# Removing Free Sulfur Dioxide\n",
    "y = df_train[\"quality\"].values\n",
    "X = numpy.vstack([numpy.ones(len(df_train)),df_train[\"fixed acidity\"].values,df_train[\"volatile acidity\"],df_train[\"citric acid\"] \\\n",
    "                  ,df_train[\"residual sugar\"],df_train[\"chlorides\"], \\\n",
    "                 df_train[\"total sulfur dioxide\"],df_train[\"density\"],df_train[\"pH\"], df_train[\"sulphates\"], \\\n",
    "                 df_train[\"alcohol\"]]).T\n",
    "theta,residuals,rank,s = numpy.linalg.lstsq(X, y)\n",
    "theta"
   ]
  },
  {
   "cell_type": "code",
   "execution_count": 22,
   "metadata": {
    "collapsed": true
   },
   "outputs": [],
   "source": [
    "y_test = df_test[\"quality\"].values\n",
    "X_test = numpy.vstack([numpy.ones(len(df_test)),df_test[\"fixed acidity\"].values,df_test[\"volatile acidity\"],df_test[\"citric acid\"] \\\n",
    "                  ,df_test[\"residual sugar\"],df_test[\"chlorides\"], \\\n",
    "                 df_test[\"total sulfur dioxide\"],df_test[\"density\"],df_test[\"pH\"], df_test[\"sulphates\"], \\\n",
    "                 df_test[\"alcohol\"]]).T\n",
    "theta_test,residuals_test,rank_test,s_test = numpy.linalg.lstsq(X_test, y_test)"
   ]
  },
  {
   "cell_type": "code",
   "execution_count": 23,
   "metadata": {
    "collapsed": false
   },
   "outputs": [
    {
     "data": {
      "text/plain": [
       "array([ 0.49663839])"
      ]
     },
     "execution_count": 23,
     "metadata": {},
     "output_type": "execute_result"
    }
   ],
   "source": [
    "residuals/len(y)\n",
    "residuals_test/len(y_test)"
   ]
  },
  {
   "cell_type": "code",
   "execution_count": 25,
   "metadata": {
    "collapsed": false
   },
   "outputs": [
    {
     "data": {
      "text/plain": [
       "array([  2.55873246e+02,   1.35090722e-01,  -1.72825856e+00,\n",
       "         1.02416787e-01,   1.08891972e-01,  -2.77158772e-01,\n",
       "         6.39868008e-03,  -2.58094731e+02,   1.19355492e+00,\n",
       "         8.34256998e-01,   9.83042785e-02])"
      ]
     },
     "execution_count": 25,
     "metadata": {},
     "output_type": "execute_result"
    }
   ],
   "source": [
    "# Removing Total Sulfur Dioxide\n",
    "y = df_train[\"quality\"].values\n",
    "X = numpy.vstack([numpy.ones(len(df_train)),df_train[\"fixed acidity\"].values,df_train[\"volatile acidity\"],df_train[\"citric acid\"] \\\n",
    "                  ,df_train[\"residual sugar\"],df_train[\"chlorides\"],df_train[\"free sulfur dioxide\"], \\\n",
    "                 df_train[\"density\"],df_train[\"pH\"], df_train[\"sulphates\"], \\\n",
    "                 df_train[\"alcohol\"]]).T\n",
    "theta,residuals,rank,s = numpy.linalg.lstsq(X, y)\n",
    "theta"
   ]
  },
  {
   "cell_type": "code",
   "execution_count": 26,
   "metadata": {
    "collapsed": true
   },
   "outputs": [],
   "source": [
    "y_test = df_test[\"quality\"].values\n",
    "X_test = numpy.vstack([numpy.ones(len(df_test)),df_test[\"fixed acidity\"].values,df_test[\"volatile acidity\"],df_test[\"citric acid\"] \\\n",
    "                  ,df_test[\"residual sugar\"],df_test[\"chlorides\"],df_test[\"free sulfur dioxide\"], \\\n",
    "                 df_test[\"density\"],df_test[\"pH\"], df_test[\"sulphates\"], \\\n",
    "                 df_test[\"alcohol\"]]).T\n",
    "theta_test,residuals_test,rank_test,s_test = numpy.linalg.lstsq(X_test, y_test)"
   ]
  },
  {
   "cell_type": "code",
   "execution_count": 27,
   "metadata": {
    "collapsed": false
   },
   "outputs": [
    {
     "data": {
      "text/plain": [
       "array([ 0.4957691])"
      ]
     },
     "execution_count": 27,
     "metadata": {},
     "output_type": "execute_result"
    }
   ],
   "source": [
    "residuals/len(y)\n",
    "residuals_test/len(y_test)"
   ]
  },
  {
   "cell_type": "code",
   "execution_count": 28,
   "metadata": {
    "collapsed": false
   },
   "outputs": [
    {
     "data": {
      "text/plain": [
       "array([  1.35278847e+00,  -6.30214557e-02,  -1.81229926e+00,\n",
       "         2.98038927e-02,   1.74234814e-02,  -1.45313766e+00,\n",
       "         8.17207399e-03,  -1.03082385e-03,   3.24191788e-01,\n",
       "         4.57723912e-01,   3.87103702e-01])"
      ]
     },
     "execution_count": 28,
     "metadata": {},
     "output_type": "execute_result"
    }
   ],
   "source": [
    "# Removing Density\n",
    "y = df_train[\"quality\"].values\n",
    "X = numpy.vstack([numpy.ones(len(df_train)),df_train[\"fixed acidity\"].values,df_train[\"volatile acidity\"],df_train[\"citric acid\"] \\\n",
    "                  ,df_train[\"residual sugar\"],df_train[\"chlorides\"],df_train[\"free sulfur dioxide\"], \\\n",
    "                 df_train[\"total sulfur dioxide\"],df_train[\"pH\"], df_train[\"sulphates\"], \\\n",
    "                 df_train[\"alcohol\"]]).T\n",
    "theta,residuals,rank,s = numpy.linalg.lstsq(X, y)\n",
    "theta"
   ]
  },
  {
   "cell_type": "code",
   "execution_count": 29,
   "metadata": {
    "collapsed": true
   },
   "outputs": [],
   "source": [
    "y_test = df_test[\"quality\"].values\n",
    "X_test = numpy.vstack([numpy.ones(len(df_test)),df_test[\"fixed acidity\"].values,df_test[\"volatile acidity\"],df_test[\"citric acid\"] \\\n",
    "                  ,df_test[\"residual sugar\"],df_test[\"chlorides\"],df_test[\"free sulfur dioxide\"], \\\n",
    "                 df_test[\"total sulfur dioxide\"],df_test[\"pH\"], df_test[\"sulphates\"], \\\n",
    "                 df_test[\"alcohol\"]]).T\n",
    "theta_test,residuals_test,rank_test,s_test = numpy.linalg.lstsq(X_test, y_test)"
   ]
  },
  {
   "cell_type": "code",
   "execution_count": 30,
   "metadata": {
    "collapsed": false
   },
   "outputs": [
    {
     "data": {
      "text/plain": [
       "array([ 0.50117674])"
      ]
     },
     "execution_count": 30,
     "metadata": {},
     "output_type": "execute_result"
    }
   ],
   "source": [
    "residuals/len(y)\n",
    "residuals_test/len(y_test)"
   ]
  },
  {
   "cell_type": "code",
   "execution_count": 31,
   "metadata": {
    "collapsed": false
   },
   "outputs": [
    {
     "data": {
      "text/plain": [
       "array([  1.03156070e+02,  -3.95816093e-02,  -1.91850711e+00,\n",
       "        -1.27755184e-02,   5.14623196e-02,  -1.22611859e+00,\n",
       "         7.57413959e-03,  -6.04094775e-04,  -1.00780974e+02,\n",
       "         7.57619203e-01,   2.83982725e-01])"
      ]
     },
     "execution_count": 31,
     "metadata": {},
     "output_type": "execute_result"
    }
   ],
   "source": [
    "# Removing pH\n",
    "y = df_train[\"quality\"].values\n",
    "X = numpy.vstack([numpy.ones(len(df_train)),df_train[\"fixed acidity\"].values,df_train[\"volatile acidity\"],df_train[\"citric acid\"] \\\n",
    "                  ,df_train[\"residual sugar\"],df_train[\"chlorides\"],df_train[\"free sulfur dioxide\"], \\\n",
    "                 df_train[\"total sulfur dioxide\"],df_train[\"density\"], df_train[\"sulphates\"], \\\n",
    "                 df_train[\"alcohol\"]]).T\n",
    "theta,residuals,rank,s = numpy.linalg.lstsq(X, y)\n",
    "theta"
   ]
  },
  {
   "cell_type": "code",
   "execution_count": 32,
   "metadata": {
    "collapsed": true
   },
   "outputs": [],
   "source": [
    "y_test = df_test[\"quality\"].values\n",
    "X_test = numpy.vstack([numpy.ones(len(df_test)),df_test[\"fixed acidity\"].values,df_test[\"volatile acidity\"],df_test[\"citric acid\"] \\\n",
    "                  ,df_test[\"residual sugar\"],df_test[\"chlorides\"],df_test[\"free sulfur dioxide\"], \\\n",
    "                 df_test[\"total sulfur dioxide\"],df_test[\"density\"],df_test[\"sulphates\"], \\\n",
    "                 df_test[\"alcohol\"]]).T\n",
    "theta_test,residuals_test,rank_test,s_test = numpy.linalg.lstsq(X_test, y_test)"
   ]
  },
  {
   "cell_type": "code",
   "execution_count": 33,
   "metadata": {
    "collapsed": false
   },
   "outputs": [
    {
     "data": {
      "text/plain": [
       "array([ 0.49564268])"
      ]
     },
     "execution_count": 33,
     "metadata": {},
     "output_type": "execute_result"
    }
   ],
   "source": [
    "residuals/len(y)\n",
    "residuals_test/len(y_test)"
   ]
  },
  {
   "cell_type": "code",
   "execution_count": 34,
   "metadata": {
    "collapsed": false
   },
   "outputs": [
    {
     "data": {
      "text/plain": [
       "array([  2.02754232e+02,   9.89499345e-02,  -1.77602652e+00,\n",
       "         1.16540757e-01,   8.82235158e-02,  -4.48945940e-01,\n",
       "         6.12915393e-03,   3.85168935e-04,  -2.04365676e+02,\n",
       "         1.13522515e+00,   1.59797632e-01])"
      ]
     },
     "execution_count": 34,
     "metadata": {},
     "output_type": "execute_result"
    }
   ],
   "source": [
    "# Removing Sulphates\n",
    "y = df_train[\"quality\"].values\n",
    "X = numpy.vstack([numpy.ones(len(df_train)),df_train[\"fixed acidity\"].values,df_train[\"volatile acidity\"],df_train[\"citric acid\"] \\\n",
    "                  ,df_train[\"residual sugar\"],df_train[\"chlorides\"],df_train[\"free sulfur dioxide\"], \\\n",
    "                 df_train[\"total sulfur dioxide\"],df_train[\"density\"],df_train[\"pH\"],  \\\n",
    "                 df_train[\"alcohol\"]]).T\n",
    "theta,residuals,rank,s = numpy.linalg.lstsq(X, y)\n",
    "theta"
   ]
  },
  {
   "cell_type": "code",
   "execution_count": 35,
   "metadata": {
    "collapsed": true
   },
   "outputs": [],
   "source": [
    "y_test = df_test[\"quality\"].values\n",
    "X_test = numpy.vstack([numpy.ones(len(df_test)),df_test[\"fixed acidity\"].values,df_test[\"volatile acidity\"],df_test[\"citric acid\"] \\\n",
    "                  ,df_test[\"residual sugar\"],df_test[\"chlorides\"],df_test[\"free sulfur dioxide\"], \\\n",
    "                 df_test[\"total sulfur dioxide\"],df_test[\"density\"],df_test[\"pH\"], \\\n",
    "                 df_test[\"alcohol\"]]).T\n",
    "theta_test,residuals_test,rank_test,s_test = numpy.linalg.lstsq(X_test, y_test)"
   ]
  },
  {
   "cell_type": "code",
   "execution_count": 36,
   "metadata": {
    "collapsed": false
   },
   "outputs": [
    {
     "data": {
      "text/plain": [
       "array([ 0.50020054])"
      ]
     },
     "execution_count": 36,
     "metadata": {},
     "output_type": "execute_result"
    }
   ],
   "source": [
    "residuals/len(y)\n",
    "residuals_test/len(y_test)"
   ]
  },
  {
   "cell_type": "code",
   "execution_count": 37,
   "metadata": {
    "collapsed": false
   },
   "outputs": [
    {
     "data": {
      "text/plain": [
       "array([  3.25993179e+02,   1.90940672e-01,  -1.68438300e+00,\n",
       "         1.34455930e-01,   1.32486181e-01,  -1.97765161e-01,\n",
       "         5.90527049e-03,   2.12840502e-04,  -3.29032181e+02,\n",
       "         1.44529192e+00,   9.37096269e-01])"
      ]
     },
     "execution_count": 37,
     "metadata": {},
     "output_type": "execute_result"
    }
   ],
   "source": [
    "# Removing Alcohol\n",
    "y = df_train[\"quality\"].values\n",
    "X = numpy.vstack([numpy.ones(len(df_train)),df_train[\"fixed acidity\"].values,df_train[\"volatile acidity\"],df_train[\"citric acid\"] \\\n",
    "                  ,df_train[\"residual sugar\"],df_train[\"chlorides\"],df_train[\"free sulfur dioxide\"], \\\n",
    "                 df_train[\"total sulfur dioxide\"],df_train[\"density\"],df_train[\"pH\"], df_train[\"sulphates\"], \\\n",
    "                ]).T\n",
    "theta,residuals,rank,s = numpy.linalg.lstsq(X, y)\n",
    "theta"
   ]
  },
  {
   "cell_type": "code",
   "execution_count": 38,
   "metadata": {
    "collapsed": true
   },
   "outputs": [],
   "source": [
    "y_test = df_test[\"quality\"].values\n",
    "X_test = numpy.vstack([numpy.ones(len(df_test)),df_test[\"fixed acidity\"].values,df_test[\"volatile acidity\"],df_test[\"citric acid\"] \\\n",
    "                  ,df_test[\"residual sugar\"],df_test[\"chlorides\"],df_test[\"free sulfur dioxide\"], \\\n",
    "                 df_test[\"total sulfur dioxide\"],df_test[\"density\"],df_test[\"pH\"], df_test[\"sulphates\"], \\\n",
    "                ]).T\n",
    "theta_test,residuals_test,rank_test,s_test = numpy.linalg.lstsq(X_test, y_test)"
   ]
  },
  {
   "cell_type": "code",
   "execution_count": 39,
   "metadata": {
    "collapsed": false
   },
   "outputs": [
    {
     "data": {
      "text/plain": [
       "array([ 0.50846051])"
      ]
     },
     "execution_count": 39,
     "metadata": {},
     "output_type": "execute_result"
    }
   ],
   "source": [
    "residuals/len(y)\n",
    "residuals_test/len(y_test)"
   ]
  },
  {
   "cell_type": "code",
   "execution_count": null,
   "metadata": {
    "collapsed": true
   },
   "outputs": [],
   "source": [
    "# Volatile Acidity and Chlorides"
   ]
  }
 ],
 "metadata": {
  "kernelspec": {
   "display_name": "Python [default]",
   "language": "python",
   "name": "python3"
  },
  "language_info": {
   "codemirror_mode": {
    "name": "ipython",
    "version": 3
   },
   "file_extension": ".py",
   "mimetype": "text/x-python",
   "name": "python",
   "nbconvert_exporter": "python",
   "pygments_lexer": "ipython3",
   "version": "3.5.2"
  }
 },
 "nbformat": 4,
 "nbformat_minor": 1
}
