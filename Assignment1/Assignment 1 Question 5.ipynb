{
 "cells": [
  {
   "cell_type": "code",
   "execution_count": 2,
   "metadata": {
    "collapsed": false
   },
   "outputs": [],
   "source": [
    "import numpy\n",
    "import scipy.optimize\n",
    "import csv\n",
    "import pandas as pd\n",
    "from sklearn import svm"
   ]
  },
  {
   "cell_type": "code",
   "execution_count": 12,
   "metadata": {
    "collapsed": false
   },
   "outputs": [],
   "source": [
    "# open the file in universal line ending mode \n",
    "df = pd.read_csv('C:/Users/BHEL/Desktop/Recommendation Systems/Assignment 1/winequality-white.csv',delimiter=\";\")\n",
    "df.loc[df['quality'] <= 5, 'quality'] = 0\n",
    "df.loc[df['quality'] > 5, 'quality'] = 1\n",
    "df_train = df.iloc[0: int(len(df)/2)]\n",
    "df_test = df.iloc[int(len(df)/2) + 1 :len(df)]"
   ]
  },
  {
   "cell_type": "code",
   "execution_count": 14,
   "metadata": {
    "collapsed": true
   },
   "outputs": [],
   "source": [
    "X_train = numpy.vstack([numpy.ones(len(df_train)),df_train[\"volatile acidity\"],df_train[\"citric acid\"] \\\n",
    "                  ,df_train[\"residual sugar\"],df_train[\"chlorides\"],df_train[\"free sulfur dioxide\"], \\\n",
    "                 df_train[\"total sulfur dioxide\"],df_train[\"density\"],df_train[\"pH\"], df_train[\"sulphates\"], \\\n",
    "                 df_train[\"alcohol\"]]).T\n",
    "y_train = df_train[\"quality\"].values"
   ]
  },
  {
   "cell_type": "code",
   "execution_count": 15,
   "metadata": {
    "collapsed": false
   },
   "outputs": [
    {
     "data": {
      "text/plain": [
       "SVC(C=1000, cache_size=200, class_weight=None, coef0=0.0,\n",
       "  decision_function_shape=None, degree=3, gamma='auto', kernel='rbf',\n",
       "  max_iter=-1, probability=False, random_state=None, shrinking=True,\n",
       "  tol=0.001, verbose=False)"
      ]
     },
     "execution_count": 15,
     "metadata": {},
     "output_type": "execute_result"
    }
   ],
   "source": [
    "clf = svm.SVC(C=1000)\n",
    "clf.fit(X_train, y_train)"
   ]
  },
  {
   "cell_type": "code",
   "execution_count": 17,
   "metadata": {
    "collapsed": true
   },
   "outputs": [],
   "source": [
    "y_test = df_test[\"quality\"].values\n",
    "X_test = numpy.vstack([numpy.ones(len(df_test)),df_test[\"volatile acidity\"],df_test[\"citric acid\"] \\\n",
    "                  ,df_test[\"residual sugar\"],df_test[\"chlorides\"],df_test[\"free sulfur dioxide\"], \\\n",
    "                 df_test[\"total sulfur dioxide\"],df_test[\"density\"],df_test[\"pH\"], df_test[\"sulphates\"], \\\n",
    "                 df_test[\"alcohol\"]]).T"
   ]
  },
  {
   "cell_type": "code",
   "execution_count": 18,
   "metadata": {
    "collapsed": false
   },
   "outputs": [],
   "source": [
    "train_predictions = clf.predict(X_train)\n",
    "test_predictions = clf.predict(X_test)"
   ]
  },
  {
   "cell_type": "code",
   "execution_count": 20,
   "metadata": {
    "collapsed": false
   },
   "outputs": [
    {
     "data": {
      "text/plain": [
       "0.99959167006941607"
      ]
     },
     "execution_count": 20,
     "metadata": {},
     "output_type": "execute_result"
    }
   ],
   "source": [
    "accuracy_train = sum(z[0] == z[1] for z in zip(train_predictions, y_train))/len(train_predictions)\n",
    "accuracy_train"
   ]
  },
  {
   "cell_type": "code",
   "execution_count": 21,
   "metadata": {
    "collapsed": false
   },
   "outputs": [
    {
     "data": {
      "text/plain": [
       "0.64991830065359479"
      ]
     },
     "execution_count": 21,
     "metadata": {},
     "output_type": "execute_result"
    }
   ],
   "source": [
    "accuracy_test = sum(z[0] == z[1] for z in zip(test_predictions, y_test))/len(test_predictions)\n",
    "accuracy_test"
   ]
  }
 ],
 "metadata": {
  "anaconda-cloud": {},
  "kernelspec": {
   "display_name": "Python [default]",
   "language": "python",
   "name": "python3"
  },
  "language_info": {
   "codemirror_mode": {
    "name": "ipython",
    "version": 3
   },
   "file_extension": ".py",
   "mimetype": "text/x-python",
   "name": "python",
   "nbconvert_exporter": "python",
   "pygments_lexer": "ipython3",
   "version": "3.5.2"
  }
 },
 "nbformat": 4,
 "nbformat_minor": 1
}
