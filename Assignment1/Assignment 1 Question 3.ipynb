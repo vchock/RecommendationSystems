{
 "cells": [
  {
   "cell_type": "code",
   "execution_count": 1,
   "metadata": {
    "collapsed": false
   },
   "outputs": [],
   "source": [
    "import numpy\n",
    "import scipy\n",
    "import csv\n",
    "import pandas as pd"
   ]
  },
  {
   "cell_type": "code",
   "execution_count": 3,
   "metadata": {
    "collapsed": false
   },
   "outputs": [],
   "source": [
    "# open the file in universal line ending mode \n",
    "df = pd.read_csv('C:/Users/BHEL/Desktop/Recommendation Systems/Assignment 1/winequality-white.csv',delimiter=\";\")\n",
    "df_train = df.iloc[0: int(len(df)/2)]\n",
    "df_test = df.iloc[int(len(df)/2) + 1 :len(df)]"
   ]
  },
  {
   "cell_type": "code",
   "execution_count": 4,
   "metadata": {
    "collapsed": false
   },
   "outputs": [
    {
     "data": {
      "text/plain": [
       "array([  2.56420279e+02,   1.35421303e-01,  -1.72994866e+00,\n",
       "         1.02651152e-01,   1.09038568e-01,  -2.76775146e-01,\n",
       "         6.34332168e-03,   3.85023977e-05,  -2.58652809e+02,\n",
       "         1.19540566e+00,   8.33006285e-01,   9.79304353e-02])"
      ]
     },
     "execution_count": 4,
     "metadata": {},
     "output_type": "execute_result"
    }
   ],
   "source": [
    "y = df_train[\"quality\"].values\n",
    "X = numpy.vstack([numpy.ones(len(df_train)),df_train[\"fixed acidity\"].values,df_train[\"volatile acidity\"],df_train[\"citric acid\"] \\\n",
    "                  ,df_train[\"residual sugar\"],df_train[\"chlorides\"],df_train[\"free sulfur dioxide\"], \\\n",
    "                 df_train[\"total sulfur dioxide\"],df_train[\"density\"],df_train[\"pH\"], df_train[\"sulphates\"], \\\n",
    "                 df_train[\"alcohol\"]]).T\n",
    "theta,residuals,rank,s = numpy.linalg.lstsq(X, y)\n",
    "theta"
   ]
  },
  {
   "cell_type": "code",
   "execution_count": 5,
   "metadata": {
    "collapsed": false
   },
   "outputs": [],
   "source": [
    "y_test = df_test[\"quality\"].values\n",
    "X_test = numpy.vstack([numpy.ones(len(df_test)),df_test[\"fixed acidity\"].values,df_test[\"volatile acidity\"],df_test[\"citric acid\"] \\\n",
    "                  ,df_test[\"residual sugar\"],df_test[\"chlorides\"],df_test[\"free sulfur dioxide\"], \\\n",
    "                 df_test[\"total sulfur dioxide\"],df_test[\"density\"],df_test[\"pH\"], df_test[\"sulphates\"], \\\n",
    "                 df_test[\"alcohol\"]]).T\n",
    "theta_test,residuals_test,rank_test,s_test = numpy.linalg.lstsq(X_test, y_test)"
   ]
  },
  {
   "cell_type": "code",
   "execution_count": 6,
   "metadata": {
    "collapsed": false
   },
   "outputs": [
    {
     "name": "stdout",
     "output_type": "stream",
     "text": [
      "[ 0.6023075]\n",
      "[ 0.49562901]\n"
     ]
    }
   ],
   "source": [
    "print(residuals/len(y))\n",
    "print(residuals_test/len(y_test))"
   ]
  }
 ],
 "metadata": {
  "kernelspec": {
   "display_name": "Python [default]",
   "language": "python",
   "name": "python3"
  },
  "language_info": {
   "codemirror_mode": {
    "name": "ipython",
    "version": 3
   },
   "file_extension": ".py",
   "mimetype": "text/x-python",
   "name": "python",
   "nbconvert_exporter": "python",
   "pygments_lexer": "ipython3",
   "version": "3.5.2"
  }
 },
 "nbformat": 4,
 "nbformat_minor": 1
}
