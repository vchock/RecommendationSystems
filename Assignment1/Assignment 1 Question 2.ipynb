{
 "cells": [
  {
   "cell_type": "code",
   "execution_count": 1,
   "metadata": {
    "collapsed": true
   },
   "outputs": [],
   "source": [
    "import scipy\n",
    "import numpy\n",
    "import urllib\n",
    "import random\n",
    "import math"
   ]
  },
  {
   "cell_type": "code",
   "execution_count": 2,
   "metadata": {
    "collapsed": false
   },
   "outputs": [],
   "source": [
    "def parseData(fname):\n",
    "  for l in open(fname):\n",
    "    yield eval(l)"
   ]
  },
  {
   "cell_type": "code",
   "execution_count": 3,
   "metadata": {
    "collapsed": false
   },
   "outputs": [],
   "source": [
    "data = list(parseData(\"C:/Users/BHEL/Desktop/Recommendation Systems/Assignment 1/beer_50000.json\"))"
   ]
  },
  {
   "cell_type": "code",
   "execution_count": 4,
   "metadata": {
    "collapsed": false
   },
   "outputs": [
    {
     "data": {
      "text/plain": [
       "2012"
      ]
     },
     "execution_count": 4,
     "metadata": {},
     "output_type": "execute_result"
    }
   ],
   "source": [
    "len(data)\n",
    "timeStruct = [d['review/timeStruct'] for d in data]\n",
    "year = [d['year'] for d in timeStruct]\n",
    "\n",
    "min(year)\n",
    "max(year)"
   ]
  },
  {
   "cell_type": "code",
   "execution_count": 5,
   "metadata": {
    "collapsed": false
   },
   "outputs": [],
   "source": [
    "data[0]\n",
    "def feature(datum):\n",
    "  if datum['year'] == 1999:\n",
    "    feat = [1,0,0,0,0]\n",
    "  elif datum['year'] == 2000:\n",
    "    feat = [1,0,0,0,1]\n",
    "  elif datum['year'] == 2001:\n",
    "    feat = [1,0,0,1,0]\n",
    "  elif datum['year'] == 2002:\n",
    "    feat = [1,0,0,1,1]\n",
    "  elif datum['year'] == 2003:\n",
    "    feat = [1,0,1,0,0]\n",
    "  elif datum['year'] == 2004:\n",
    "    feat = [1,0,1,0,1]\n",
    "  elif datum['year'] == 2005:\n",
    "    feat = [1,0,1,1,0]\n",
    "  elif datum['year'] == 2006:\n",
    "    feat = [1,0,1,1,1]\n",
    "  elif datum['year'] == 2007:\n",
    "    feat = [1,1,0,0,0]\n",
    "  elif datum['year'] == 2008:\n",
    "    feat = [1,1,0,0,1]\n",
    "  elif datum['year'] == 2009:\n",
    "    feat = [1,1,0,1,0]\n",
    "  elif datum['year'] == 2010:\n",
    "    feat = [1,1,0,1,1]\n",
    "  elif datum['year'] == 2011:\n",
    "    feat = [1,1,1,0,0]\n",
    "  elif datum['year'] == 2012:\n",
    "    feat = [1,1,1,0,1] # any other year will get added to the bias term\n",
    "  return feat"
   ]
  },
  {
   "cell_type": "code",
   "execution_count": 6,
   "metadata": {
    "collapsed": false
   },
   "outputs": [],
   "source": [
    "X = [feature(d) for d in timeStruct]"
   ]
  },
  {
   "cell_type": "code",
   "execution_count": 7,
   "metadata": {
    "collapsed": true
   },
   "outputs": [],
   "source": [
    "y = [d['review/overall'] for d in data]\n",
    "theta,residuals,rank,s = numpy.linalg.lstsq(X, y)"
   ]
  },
  {
   "cell_type": "code",
   "execution_count": 8,
   "metadata": {
    "collapsed": false
   },
   "outputs": [
    {
     "data": {
      "text/plain": [
       "array([  3.70613430e+00,   1.64047010e-01,   7.07739382e-02,\n",
       "         4.47664682e-02,  -3.61124198e-03])"
      ]
     },
     "execution_count": 8,
     "metadata": {},
     "output_type": "execute_result"
    }
   ],
   "source": [
    "theta\n"
   ]
  },
  {
   "cell_type": "code",
   "execution_count": 134,
   "metadata": {
    "collapsed": false
   },
   "outputs": [
    {
     "data": {
      "text/plain": [
       "0.48990915696982806"
      ]
     },
     "execution_count": 134,
     "metadata": {},
     "output_type": "execute_result"
    }
   ],
   "source": [
    "residuals/len(y) ##MSE\n",
    "theta.shape\n",
    "thetamat = numpy.asmatrix(theta)\n",
    "Xmat = numpy.asmatrix(X)\n",
    "type(Xmat)\n",
    "(thetamat * Xmat.transpose()).shape\n",
    "ymat = numpy.asmatrix(y)\n",
    "ymat.shape\n",
    "sum(numpy.squeeze(numpy.asarray(ymat-thetamat*Xmat.transpose()))**2)/len(y)\n"
   ]
  }
 ],
 "metadata": {
  "anaconda-cloud": {},
  "kernelspec": {
   "display_name": "Python [default]",
   "language": "python",
   "name": "python3"
  },
  "language_info": {
   "codemirror_mode": {
    "name": "ipython",
    "version": 3
   },
   "file_extension": ".py",
   "mimetype": "text/x-python",
   "name": "python",
   "nbconvert_exporter": "python",
   "pygments_lexer": "ipython3",
   "version": "3.5.2"
  }
 },
 "nbformat": 4,
 "nbformat_minor": 1
}
