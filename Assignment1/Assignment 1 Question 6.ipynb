{
 "cells": [
  {
   "cell_type": "code",
   "execution_count": 152,
   "metadata": {
    "collapsed": false
   },
   "outputs": [],
   "source": [
    "import numpy\n",
    "import scipy.optimize\n",
    "import csv\n",
    "import pandas as pd\n",
    "from math import exp\n",
    "from math import log"
   ]
  },
  {
   "cell_type": "code",
   "execution_count": 153,
   "metadata": {
    "collapsed": false
   },
   "outputs": [],
   "source": [
    "# open the file in universal line ending mode \n",
    "df = pd.read_csv('C:/Users/BHEL/Desktop/Recommendation Systems/Assignment 1/winequality-white.csv',delimiter=\";\")\n",
    "df.loc[df['quality'] <= 5, 'quality'] = 0\n",
    "df.loc[df['quality'] > 5, 'quality'] = 1\n",
    "df_train = df.iloc[0: int(len(df)/2)]\n",
    "df_test = df.iloc[int(len(df)/2) + 1 :len(df)]"
   ]
  },
  {
   "cell_type": "code",
   "execution_count": 154,
   "metadata": {
    "collapsed": false
   },
   "outputs": [
    {
     "name": "stdout",
     "output_type": "stream",
     "text": [
      "(2449, 11)\n"
     ]
    }
   ],
   "source": [
    "X_train = numpy.vstack([numpy.ones(len(df_train)),df_train[\"volatile acidity\"],df_train[\"citric acid\"] \\\n",
    "                  ,df_train[\"residual sugar\"],df_train[\"chlorides\"],df_train[\"free sulfur dioxide\"], \\\n",
    "                 df_train[\"total sulfur dioxide\"],df_train[\"density\"],df_train[\"pH\"], df_train[\"sulphates\"], \\\n",
    "                 df_train[\"alcohol\"]]).T\n",
    "y_train = df_train[\"quality\"].values\n",
    "print(X_train.shape)"
   ]
  },
  {
   "cell_type": "code",
   "execution_count": 155,
   "metadata": {
    "collapsed": false
   },
   "outputs": [
    {
     "name": "stdout",
     "output_type": "stream",
     "text": [
      "(2448, 11)\n"
     ]
    }
   ],
   "source": [
    "y_test = df_test[\"quality\"].values\n",
    "X_test = numpy.vstack([numpy.ones(len(df_test)),df_test[\"volatile acidity\"],df_test[\"citric acid\"] \\\n",
    "                  ,df_test[\"residual sugar\"],df_test[\"chlorides\"],df_test[\"free sulfur dioxide\"], \\\n",
    "                 df_test[\"total sulfur dioxide\"],df_test[\"density\"],df_test[\"pH\"], df_test[\"sulphates\"], \\\n",
    "                 df_test[\"alcohol\"]]).T\n",
    "print(X_test.shape)"
   ]
  },
  {
   "cell_type": "code",
   "execution_count": 156,
   "metadata": {
    "collapsed": false
   },
   "outputs": [],
   "source": [
    "def inner(x,y):\n",
    "  return sum([x[i]*y[i] for i in range(len(x))])\n",
    "\n",
    "def sigmoid(x):\n",
    "  return 1.0 / (1 + exp(-x))"
   ]
  },
  {
   "cell_type": "code",
   "execution_count": 157,
   "metadata": {
    "collapsed": false
   },
   "outputs": [],
   "source": [
    "def f(theta, X, y, lam):\n",
    "  loglikelihood = 0\n",
    "  for i in range(len(X)):\n",
    "    logit = inner(X[i], theta)\n",
    "    loglikelihood -= log(1 + exp(-logit))\n",
    "    if not y[i]:\n",
    "      loglikelihood -= logit\n",
    "  for k in range(len(theta)):\n",
    "    loglikelihood -= lam * theta[k]*theta[k]\n",
    "  print(\"ll =\", loglikelihood)\n",
    "  return -loglikelihood"
   ]
  },
  {
   "cell_type": "code",
   "execution_count": 158,
   "metadata": {
    "collapsed": false
   },
   "outputs": [],
   "source": [
    "def fprime(theta, X, y, lam):\n",
    "  dl = [0.0]*len(theta)\n",
    "  for i in range(len(X)):\n",
    "    logit = inner(X[i],theta)\n",
    "    logitsigm = 1- sigmoid(logit)\n",
    "    for k in range(len(theta)):\n",
    "        dl[k] += X[i,k]*logitsigm\n",
    "        if not y[i]:\n",
    "            dl[k] -= X[i,k]\n",
    "  for m in range(len(theta)):\n",
    "        dl[m] -= 2*lam*theta[m]\n",
    "  # Negate the return value since we're doing gradient *ascent*\n",
    "  return numpy.array([-x for x in dl])"
   ]
  },
  {
   "cell_type": "code",
   "execution_count": 159,
   "metadata": {
    "collapsed": false
   },
   "outputs": [
    {
     "name": "stdout",
     "output_type": "stream",
     "text": [
      "ll = -1697.51744519\n",
      "ll = -143048.449236\n",
      "ll = -8498.41188185\n",
      "ll = -1662.27396278\n",
      "ll = -1640.46002914\n",
      "ll = -1640.09752572\n",
      "ll = -1639.13573607\n",
      "ll = -1636.63498437\n",
      "ll = -1631.15200844\n",
      "ll = -1621.32376966\n",
      "ll = -1609.79229061\n",
      "ll = -1601.92616502\n",
      "ll = -1599.271792\n",
      "ll = -1598.50186573\n",
      "ll = -1596.81445443\n",
      "ll = -1593.14683692\n",
      "ll = -1584.68719319\n",
      "ll = -1569.83900224\n",
      "ll = -1555.65692641\n",
      "ll = -1594.34016718\n",
      "ll = -1550.98328345\n",
      "ll = -1547.85319442\n",
      "ll = -1547.18874659\n",
      "ll = -1547.18001132\n",
      "ll = -1547.14951095\n",
      "ll = -1546.8321634\n",
      "ll = -1545.71300134\n",
      "ll = -1544.06470166\n",
      "ll = -1542.25909085\n",
      "ll = -1541.81516835\n",
      "ll = -1541.75566151\n",
      "ll = -1541.70777726\n",
      "ll = -1541.54113893\n",
      "ll = -1541.22214637\n",
      "ll = -1551.25470642\n",
      "ll = -1541.13773922\n",
      "ll = -1540.68635019\n",
      "ll = -1537.55671549\n",
      "ll = -1532.85859215\n",
      "ll = -1521.23813544\n",
      "ll = -1501.49740199\n",
      "ll = -1477.21248572\n",
      "ll = -1466.8975171\n",
      "ll = -1462.74153733\n",
      "ll = -1462.09115855\n",
      "ll = -1462.07433288\n",
      "ll = -1462.06839693\n",
      "ll = -1462.26864343\n",
      "ll = -1462.06697529\n",
      "ll = -1462.06475751\n",
      "ll = -1462.05662566\n",
      "ll = -1461.98532381\n",
      "ll = -1461.92068973\n",
      "ll = -1461.47976997\n",
      "ll = -1460.35886659\n",
      "ll = -1453.80077913\n",
      "ll = -1450.21180025\n",
      "ll = -1436.67928372\n",
      "ll = -1418.56452591\n",
      "ll = -1402.72313368\n",
      "ll = -2209.51869105\n",
      "ll = -1402.69672313\n",
      "ll = -1398.67583146\n",
      "ll = -1398.32146905\n",
      "ll = -1398.30807597\n",
      "ll = -1398.30759243\n",
      "ll = -1398.30729158\n",
      "ll = -1398.30648282\n",
      "ll = -1399.49681819\n",
      "ll = -1398.30551316\n",
      "ll = -1398.3009646\n",
      "ll = -1398.28725183\n",
      "ll = -1398.26684707\n",
      "ll = -1398.27050577\n",
      "ll = -1398.24910242\n",
      "ll = -1398.20595857\n",
      "ll = -1398.18280481\n",
      "ll = -1398.15307729\n",
      "ll = -1398.1185773\n",
      "ll = -1399.49739972\n",
      "ll = -1398.08061145\n",
      "ll = -1397.95491833\n",
      "ll = -1397.48053467\n",
      "ll = -1396.96247338\n",
      "ll = -1396.45142196\n",
      "ll = -1396.67371324\n",
      "ll = -1396.08264086\n",
      "ll = -1400.61805875\n",
      "ll = -1396.06021729\n",
      "ll = -1395.82855734\n",
      "ll = -1396.67227475\n",
      "ll = -1395.78791178\n",
      "ll = -1395.66118579\n",
      "ll = -1395.72948093\n",
      "ll = -1395.17484114\n",
      "ll = -1395.16302835\n",
      "ll = -1395.38104151\n",
      "ll = -1395.16145744\n",
      "ll = -1395.16138762\n",
      "ll = -1395.16135504\n",
      "ll = -1395.16123268\n",
      "ll = -1395.15876117\n",
      "ll = -1395.15239189\n",
      "ll = -1395.16701486\n",
      "ll = -1395.14989072\n",
      "ll = -1395.13383678\n",
      "ll = -1395.09074937\n",
      "ll = -1395.02567056\n",
      "ll = -1394.96142748\n",
      "ll = -1395.3614215\n",
      "ll = -1394.95117199\n",
      "ll = -1394.9313721\n",
      "ll = -1394.92811661\n",
      "ll = -1394.92788597\n",
      "ll = -1394.92767353\n",
      "ll = -1394.92709493\n",
      "ll = -1394.92574697\n",
      "ll = -1394.92963275\n",
      "ll = -1394.92487835\n",
      "ll = -1394.92366963\n",
      "ll = -1394.92273183\n",
      "ll = -1394.92271347\n",
      "ll = -1394.92269193\n",
      "ll = -1394.9226685\n",
      "ll = -1394.92260272\n",
      "ll = -1394.92403627\n",
      "ll = -1394.92259383\n",
      "ll = -1394.92251155\n",
      "ll = -1394.92237783\n",
      "ll = -1394.92220392\n",
      "ll = -1394.92201748\n",
      "ll = -1394.92174875\n",
      "ll = -1394.92206472\n",
      "ll = -1394.92162681\n",
      "ll = -1394.92133886\n",
      "ll = -1394.92103647\n",
      "ll = -1396.72495648\n",
      "ll = -1394.92070764\n",
      "ll = -1394.92032856\n",
      "ll = -1394.9202579\n",
      "ll = -1394.92025439\n",
      "ll = -1394.92025248\n",
      "Final log likelihood = -1394.92025248\n"
     ]
    }
   ],
   "source": [
    "theta,l,info = scipy.optimize.fmin_l_bfgs_b(f, [0]*len(X_train[0]), fprime, args = (X_train, y_train, 1.0))\n",
    "print(\"Final log likelihood =\", -l)\n"
   ]
  },
  {
   "cell_type": "code",
   "execution_count": 147,
   "metadata": {
    "collapsed": false
   },
   "outputs": [],
   "source": [
    "theta = numpy.matrix(theta).transpose()\n",
    "X_train = numpy.matrix(X_train)\n",
    "y_pred_train = (X_train * theta)\n",
    "for i in range(len(y_pred_train)):\n",
    "    if(y_pred_train[i,0]<0):\n",
    "        y_pred_train[i,0] = 0\n",
    "    else:\n",
    "        y_pred_train[i,0] = 1"
   ]
  },
  {
   "cell_type": "code",
   "execution_count": 148,
   "metadata": {
    "collapsed": false
   },
   "outputs": [
    {
     "data": {
      "text/plain": [
       "matrix([[ 0.70600245]])"
      ]
     },
     "execution_count": 148,
     "metadata": {},
     "output_type": "execute_result"
    }
   ],
   "source": [
    "accuracy_train = sum(z[0] == z[1] for z in zip(y_pred_train, y_train))/len(y_pred_train)\n",
    "accuracy_train"
   ]
  },
  {
   "cell_type": "code",
   "execution_count": 149,
   "metadata": {
    "collapsed": false
   },
   "outputs": [],
   "source": [
    "#heta = numpy.matrix(theta).transpose()\n",
    "X_test = numpy.matrix(X_test)\n",
    "y_pred_test = (X_test * theta)\n",
    "for i in range(len(y_pred_test)):\n",
    "    if(y_pred_test[i,0]<0):\n",
    "        y_pred_test[i,0] = 0\n",
    "    else:\n",
    "        y_pred_test[i,0] = 1"
   ]
  },
  {
   "cell_type": "code",
   "execution_count": 150,
   "metadata": {
    "collapsed": false
   },
   "outputs": [
    {
     "data": {
      "text/plain": [
       "matrix([[ 0.76062092]])"
      ]
     },
     "execution_count": 150,
     "metadata": {},
     "output_type": "execute_result"
    }
   ],
   "source": [
    "accuracy_test = sum(z[0] == z[1] for z in zip(y_pred_test, y_test))/len(y_pred_test)\n",
    "accuracy_test"
   ]
  }
 ],
 "metadata": {
  "anaconda-cloud": {},
  "kernelspec": {
   "display_name": "Python [default]",
   "language": "python",
   "name": "python3"
  },
  "language_info": {
   "codemirror_mode": {
    "name": "ipython",
    "version": 3
   },
   "file_extension": ".py",
   "mimetype": "text/x-python",
   "name": "python",
   "nbconvert_exporter": "python",
   "pygments_lexer": "ipython3",
   "version": "3.5.2"
  }
 },
 "nbformat": 4,
 "nbformat_minor": 1
}
